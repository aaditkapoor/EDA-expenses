{
 "cells": [
  {
   "cell_type": "markdown",
   "metadata": {},
   "source": [
    "# <b><u>Exploratory Data Analysis for my expenses using Python.</u></b>\n",
    "###                                              -Aadit Kapoor\n",
    "## We use the dataset in the form of csv from the <b>ThomasCook Website</b> to get my expenditure for 1 year.\n",
    "## Our aim is to discover:\n",
    "- Trends\n",
    "- The way I spend money\n",
    "- Prediction of the amount I may spend on a particular day."
   ]
  },
  {
   "cell_type": "code",
   "execution_count": 615,
   "metadata": {},
   "outputs": [],
   "source": [
    "# importing\n",
    "import numpy as np\n",
    "import pandas as pd\n",
    "from sklearn.model_selection import train_test_split\n",
    "from sklearn.linear_model import LinearRegression, LogisticRegression\n",
    "from sklearn.tree import DecisionTreeRegressor\n",
    "from sklearn.svm import SVR\n",
    "from sklearn.ensemble import RandomForestRegressor,BaggingRegressor,GradientBoostingRegressor\n",
    "from sklearn.feature_extraction.text import CountVectorizer, TfidfVectorizer\n",
    "import seaborn as sns\n",
    "import datetime\n",
    "\n",
    "pd.options.mode.chained_assignment = None"
   ]
  },
  {
   "cell_type": "markdown",
   "metadata": {},
   "source": [
    "## <u>Overview of the dataset</u>\n",
    "- Let us first start by viewing our data and gathering some straight up facts from it."
   ]
  },
  {
   "cell_type": "code",
   "execution_count": 616,
   "metadata": {},
   "outputs": [
    {
     "data": {
      "text/html": [
       "<div>\n",
       "<style scoped>\n",
       "    .dataframe tbody tr th:only-of-type {\n",
       "        vertical-align: middle;\n",
       "    }\n",
       "\n",
       "    .dataframe tbody tr th {\n",
       "        vertical-align: top;\n",
       "    }\n",
       "\n",
       "    .dataframe thead th {\n",
       "        text-align: right;\n",
       "    }\n",
       "</style>\n",
       "<table border=\"1\" class=\"dataframe\">\n",
       "  <thead>\n",
       "    <tr style=\"text-align: right;\">\n",
       "      <th></th>\n",
       "      <th>st_date</th>\n",
       "      <th>t_date</th>\n",
       "      <th>ref_num</th>\n",
       "      <th>tran_details</th>\n",
       "      <th>t_amount</th>\n",
       "      <th>curr</th>\n",
       "      <th>s_amt</th>\n",
       "      <th>curr_2</th>\n",
       "      <th>fee_amt</th>\n",
       "      <th>fee_gst</th>\n",
       "      <th>cross_charges</th>\n",
       "      <th>gst_cross</th>\n",
       "      <th>total_amt</th>\n",
       "      <th>D_C</th>\n",
       "    </tr>\n",
       "  </thead>\n",
       "  <tbody>\n",
       "    <tr>\n",
       "      <th>44</th>\n",
       "      <td>2018-08-18</td>\n",
       "      <td>2018-08-16</td>\n",
       "      <td>26025468</td>\n",
       "      <td>MEMO CASH ADVANCE BANK OF AMERICA CA0158 SAN J...</td>\n",
       "      <td>100.00</td>\n",
       "      <td>USD</td>\n",
       "      <td>0</td>\n",
       "      <td>USD</td>\n",
       "      <td>1.75</td>\n",
       "      <td>0.32</td>\n",
       "      <td>0</td>\n",
       "      <td>0</td>\n",
       "      <td>102.07</td>\n",
       "      <td>Dr</td>\n",
       "    </tr>\n",
       "    <tr>\n",
       "      <th>43</th>\n",
       "      <td>2018-08-19</td>\n",
       "      <td>2018-08-16</td>\n",
       "      <td>26021120</td>\n",
       "      <td>DEBIT PURCHASE CHE PANDA EXPR SAN JOSE CA</td>\n",
       "      <td>13.98</td>\n",
       "      <td>USD</td>\n",
       "      <td>0</td>\n",
       "      <td>USD</td>\n",
       "      <td>0.00</td>\n",
       "      <td>0.00</td>\n",
       "      <td>0</td>\n",
       "      <td>0</td>\n",
       "      <td>13.98</td>\n",
       "      <td>Dr</td>\n",
       "    </tr>\n",
       "    <tr>\n",
       "      <th>42</th>\n",
       "      <td>2018-10-16</td>\n",
       "      <td>2018-10-14</td>\n",
       "      <td>31840420</td>\n",
       "      <td>DEBIT PURCHASE PAMF 685 COLEMAN MF SAN JOSE CA</td>\n",
       "      <td>79.00</td>\n",
       "      <td>USD</td>\n",
       "      <td>0</td>\n",
       "      <td>USD</td>\n",
       "      <td>0.00</td>\n",
       "      <td>0.00</td>\n",
       "      <td>0</td>\n",
       "      <td>0</td>\n",
       "      <td>79.00</td>\n",
       "      <td>Dr</td>\n",
       "    </tr>\n",
       "    <tr>\n",
       "      <th>40</th>\n",
       "      <td>2018-12-20</td>\n",
       "      <td>2018-12-18</td>\n",
       "      <td>37923858</td>\n",
       "      <td>DEBIT PURCHASE THE CHOCOLATE MARKET SAN FRANCI...</td>\n",
       "      <td>4.88</td>\n",
       "      <td>USD</td>\n",
       "      <td>0</td>\n",
       "      <td>USD</td>\n",
       "      <td>0.00</td>\n",
       "      <td>0.00</td>\n",
       "      <td>0</td>\n",
       "      <td>0</td>\n",
       "      <td>4.88</td>\n",
       "      <td>Dr</td>\n",
       "    </tr>\n",
       "    <tr>\n",
       "      <th>41</th>\n",
       "      <td>2018-12-20</td>\n",
       "      <td>2018-12-18</td>\n",
       "      <td>37923361</td>\n",
       "      <td>DEBIT PURCHASE THE CHOCOLATE MARKET SAN FRANCI...</td>\n",
       "      <td>9.77</td>\n",
       "      <td>USD</td>\n",
       "      <td>0</td>\n",
       "      <td>USD</td>\n",
       "      <td>0.00</td>\n",
       "      <td>0.00</td>\n",
       "      <td>0</td>\n",
       "      <td>0</td>\n",
       "      <td>9.77</td>\n",
       "      <td>Dr</td>\n",
       "    </tr>\n",
       "    <tr>\n",
       "      <th>38</th>\n",
       "      <td>2018-12-21</td>\n",
       "      <td>2018-12-18</td>\n",
       "      <td>37923660</td>\n",
       "      <td>DEBIT PURCHASE NEW STAND AREA G SAN FRANCISCO CA</td>\n",
       "      <td>2.99</td>\n",
       "      <td>USD</td>\n",
       "      <td>0</td>\n",
       "      <td>USD</td>\n",
       "      <td>0.00</td>\n",
       "      <td>0.00</td>\n",
       "      <td>0</td>\n",
       "      <td>0</td>\n",
       "      <td>2.99</td>\n",
       "      <td>Dr</td>\n",
       "    </tr>\n",
       "    <tr>\n",
       "      <th>39</th>\n",
       "      <td>2018-12-21</td>\n",
       "      <td>2018-12-18</td>\n",
       "      <td>37921147</td>\n",
       "      <td>DEBIT PURCHASE KOI PALACE EXPRESS SAN FRANCISC...</td>\n",
       "      <td>14.41</td>\n",
       "      <td>USD</td>\n",
       "      <td>0</td>\n",
       "      <td>USD</td>\n",
       "      <td>0.00</td>\n",
       "      <td>0.00</td>\n",
       "      <td>0</td>\n",
       "      <td>0</td>\n",
       "      <td>14.41</td>\n",
       "      <td>Dr</td>\n",
       "    </tr>\n",
       "    <tr>\n",
       "      <th>20</th>\n",
       "      <td>2019-04-04</td>\n",
       "      <td>2019-01-04</td>\n",
       "      <td>46833172</td>\n",
       "      <td>DEBIT PURCHASE 7-ELEVEN 14288 SAN JOSE CA</td>\n",
       "      <td>7.51</td>\n",
       "      <td>USD</td>\n",
       "      <td>0</td>\n",
       "      <td>USD</td>\n",
       "      <td>0.00</td>\n",
       "      <td>0.00</td>\n",
       "      <td>0</td>\n",
       "      <td>0</td>\n",
       "      <td>7.51</td>\n",
       "      <td>Dr</td>\n",
       "    </tr>\n",
       "    <tr>\n",
       "      <th>36</th>\n",
       "      <td>2019-01-23</td>\n",
       "      <td>2019-01-21</td>\n",
       "      <td>40358666</td>\n",
       "      <td>ECOM DEBIT Completion UBR* PENDING.UBER.COM SA...</td>\n",
       "      <td>76.47</td>\n",
       "      <td>USD</td>\n",
       "      <td>0</td>\n",
       "      <td>USD</td>\n",
       "      <td>0.00</td>\n",
       "      <td>0.00</td>\n",
       "      <td>0</td>\n",
       "      <td>0</td>\n",
       "      <td>76.47</td>\n",
       "      <td>Dr</td>\n",
       "    </tr>\n",
       "    <tr>\n",
       "      <th>37</th>\n",
       "      <td>2019-01-23</td>\n",
       "      <td>2019-01-21</td>\n",
       "      <td>40358393</td>\n",
       "      <td>ECOM DEBIT Completion UBR* PENDING.UBER.COM SA...</td>\n",
       "      <td>76.47</td>\n",
       "      <td>USD</td>\n",
       "      <td>0</td>\n",
       "      <td>USD</td>\n",
       "      <td>0.00</td>\n",
       "      <td>0.00</td>\n",
       "      <td>0</td>\n",
       "      <td>0</td>\n",
       "      <td>5.00</td>\n",
       "      <td>Dr</td>\n",
       "    </tr>\n",
       "  </tbody>\n",
       "</table>\n",
       "</div>"
      ],
      "text/plain": [
       "      st_date     t_date   ref_num  \\\n",
       "44 2018-08-18 2018-08-16  26025468   \n",
       "43 2018-08-19 2018-08-16  26021120   \n",
       "42 2018-10-16 2018-10-14  31840420   \n",
       "40 2018-12-20 2018-12-18  37923858   \n",
       "41 2018-12-20 2018-12-18  37923361   \n",
       "38 2018-12-21 2018-12-18  37923660   \n",
       "39 2018-12-21 2018-12-18  37921147   \n",
       "20 2019-04-04 2019-01-04  46833172   \n",
       "36 2019-01-23 2019-01-21  40358666   \n",
       "37 2019-01-23 2019-01-21  40358393   \n",
       "\n",
       "                                         tran_details  t_amount curr  s_amt  \\\n",
       "44  MEMO CASH ADVANCE BANK OF AMERICA CA0158 SAN J...    100.00  USD      0   \n",
       "43          DEBIT PURCHASE CHE PANDA EXPR SAN JOSE CA     13.98  USD      0   \n",
       "42     DEBIT PURCHASE PAMF 685 COLEMAN MF SAN JOSE CA     79.00  USD      0   \n",
       "40  DEBIT PURCHASE THE CHOCOLATE MARKET SAN FRANCI...      4.88  USD      0   \n",
       "41  DEBIT PURCHASE THE CHOCOLATE MARKET SAN FRANCI...      9.77  USD      0   \n",
       "38   DEBIT PURCHASE NEW STAND AREA G SAN FRANCISCO CA      2.99  USD      0   \n",
       "39  DEBIT PURCHASE KOI PALACE EXPRESS SAN FRANCISC...     14.41  USD      0   \n",
       "20          DEBIT PURCHASE 7-ELEVEN 14288 SAN JOSE CA      7.51  USD      0   \n",
       "36  ECOM DEBIT Completion UBR* PENDING.UBER.COM SA...     76.47  USD      0   \n",
       "37  ECOM DEBIT Completion UBR* PENDING.UBER.COM SA...     76.47  USD      0   \n",
       "\n",
       "   curr_2  fee_amt  fee_gst  cross_charges  gst_cross  total_amt D_C  \n",
       "44    USD     1.75     0.32              0          0     102.07  Dr  \n",
       "43    USD     0.00     0.00              0          0      13.98  Dr  \n",
       "42    USD     0.00     0.00              0          0      79.00  Dr  \n",
       "40    USD     0.00     0.00              0          0       4.88  Dr  \n",
       "41    USD     0.00     0.00              0          0       9.77  Dr  \n",
       "38    USD     0.00     0.00              0          0       2.99  Dr  \n",
       "39    USD     0.00     0.00              0          0      14.41  Dr  \n",
       "20    USD     0.00     0.00              0          0       7.51  Dr  \n",
       "36    USD     0.00     0.00              0          0      76.47  Dr  \n",
       "37    USD     0.00     0.00              0          0       5.00  Dr  "
      ]
     },
     "execution_count": 616,
     "metadata": {},
     "output_type": "execute_result"
    }
   ],
   "source": [
    "# loading data\n",
    "data = pd.read_csv(\"expenses.csv\", parse_dates=[\"st_date\",\"t_date\"])\n",
    "data.sort_values(by=[\"t_date\", \"st_date\"], inplace=True) # Give the sorted data\n",
    "data_copy = data.copy()\n",
    "data.head(10)"
   ]
  },
  {
   "cell_type": "code",
   "execution_count": 619,
   "metadata": {},
   "outputs": [
    {
     "name": "stdout",
     "output_type": "stream",
     "text": [
      "Length:  45\n",
      "Number of columns:  14\n",
      "Range of the data is from:  2018-08-16 00:00:00 to this:  2019-11-02 00:00:00\n",
      "The maximum amount in the account is:  $ 1000.0\n",
      "Mode:  0    0.79\n",
      "1    7.51\n",
      "dtype: float64\n",
      "Median:  12.02\n",
      "Mean:  57.28288888888888\n",
      "Minimum amount in the account is: $ 0.79\n",
      "\n",
      "The first transaction to the account was: $ 100.0 at:  44    MEMO CASH ADVANCE BANK OF AMERICA CA0158 SAN J...\n",
      "Name: tran_details, dtype: object\n"
     ]
    }
   ],
   "source": [
    "# resetting index\n",
    "print (\"Length: \", len(data))\n",
    "print (\"Number of columns: \", len(data.columns))\n",
    "print \n",
    "print (\"Range of the data is from: \", data.t_date.min(), \"to this: \", data.t_date.max())\n",
    "print (\"The maximum amount in the account is: \", \"$\",data.total_amt.max())\n",
    "print (\"Mode: \", data.total_amt.mode())\n",
    "print (\"Median: \", data.total_amt.median())\n",
    "print (\"Mean: \", data.total_amt.mean())\n",
    "\n",
    "print (\"Minimum amount in the account is: $\", data.total_amt.min())\n",
    "print()\n",
    "print (\"The first transaction to the account was: $\", data.t_amount.values[0], \"at: \", data[\"tran_details\"][data[\"t_amount\"] == data[\"t_amount\"].values[0]])"
   ]
  },
  {
   "cell_type": "markdown",
   "metadata": {},
   "source": [
    "- Looking at the data we find that there are 45 rows (entries) and there are 14 columns. The data ranges from the period of August 2018 to August 2019.\n",
    "- \n",
    "#### A brief overview of the features are as follows:\n",
    "- st_date: Settlement date\n",
    "- t_date: Transaction date\n",
    "- ref_num: Reference Number\n",
    "- tran_details: Transaction details\n",
    "- t_amount: transaction amount\n",
    "- curr: Currency\n",
    "- s_amt: Settlement amount\n",
    "- curr_2: Currency\n",
    "- fee_amt: Fee amount\n",
    "- fee_gst: Fee GST\n",
    "- cross_charges: Cross currency charges\n",
    "- gst_cross: GST Cross\n",
    "- total_amt: Total amount\n",
    "- D_C: Debit or Credit"
   ]
  },
  {
   "cell_type": "markdown",
   "metadata": {},
   "source": [
    "## <u>Data Preprocessing</u>\n",
    "- Looking at the data, we eliminate a certain number of columns and then proceed with our investigation."
   ]
  },
  {
   "cell_type": "code",
   "execution_count": 620,
   "metadata": {},
   "outputs": [],
   "source": [
    "# data preprocessing functions\n",
    "\n",
    "days = {\"Monday\":0, \"Tuesday\":1, \"Wednesday\":2, \"Thursday\":3, \"Friday\":4, \"Saturday\":5, \"Sunday\":6}\n",
    "\n",
    "# convert date to day of the week\n",
    "def convert_date_to_week(date):\n",
    "    year, month, day = (int(x) for x in date.split('/'))   \n",
    "    ans = datetime.date(year, month, day)\n",
    "    return ans.strftime(\"%A\")"
   ]
  },
  {
   "cell_type": "code",
   "execution_count": 621,
   "metadata": {},
   "outputs": [
    {
     "data": {
      "text/html": [
       "<div>\n",
       "<style scoped>\n",
       "    .dataframe tbody tr th:only-of-type {\n",
       "        vertical-align: middle;\n",
       "    }\n",
       "\n",
       "    .dataframe tbody tr th {\n",
       "        vertical-align: top;\n",
       "    }\n",
       "\n",
       "    .dataframe thead th {\n",
       "        text-align: right;\n",
       "    }\n",
       "</style>\n",
       "<table border=\"1\" class=\"dataframe\">\n",
       "  <thead>\n",
       "    <tr style=\"text-align: right;\">\n",
       "      <th></th>\n",
       "      <th>st_date</th>\n",
       "      <th>t_date</th>\n",
       "      <th>ref_num</th>\n",
       "      <th>tran_details</th>\n",
       "      <th>t_amount</th>\n",
       "      <th>curr</th>\n",
       "      <th>s_amt</th>\n",
       "      <th>curr_2</th>\n",
       "      <th>fee_amt</th>\n",
       "      <th>fee_gst</th>\n",
       "      <th>cross_charges</th>\n",
       "      <th>gst_cross</th>\n",
       "      <th>total_amt</th>\n",
       "      <th>D_C</th>\n",
       "    </tr>\n",
       "    <tr>\n",
       "      <th>tran_details</th>\n",
       "      <th></th>\n",
       "      <th></th>\n",
       "      <th></th>\n",
       "      <th></th>\n",
       "      <th></th>\n",
       "      <th></th>\n",
       "      <th></th>\n",
       "      <th></th>\n",
       "      <th></th>\n",
       "      <th></th>\n",
       "      <th></th>\n",
       "      <th></th>\n",
       "      <th></th>\n",
       "      <th></th>\n",
       "    </tr>\n",
       "  </thead>\n",
       "  <tbody>\n",
       "    <tr>\n",
       "      <th>MEMO CASH ADVANCE BANK OF AMERICA CA0158 SAN JOSE CA</th>\n",
       "      <td>2018-08-18</td>\n",
       "      <td>2018-08-16</td>\n",
       "      <td>26025468</td>\n",
       "      <td>MEMO CASH ADVANCE BANK OF AMERICA CA0158 SAN J...</td>\n",
       "      <td>100.00</td>\n",
       "      <td>USD</td>\n",
       "      <td>0</td>\n",
       "      <td>USD</td>\n",
       "      <td>1.75</td>\n",
       "      <td>0.32</td>\n",
       "      <td>0</td>\n",
       "      <td>0</td>\n",
       "      <td>102.07</td>\n",
       "      <td>Dr</td>\n",
       "    </tr>\n",
       "    <tr>\n",
       "      <th>DEBIT PURCHASE CHE PANDA EXPR SAN JOSE CA</th>\n",
       "      <td>2018-08-19</td>\n",
       "      <td>2018-08-16</td>\n",
       "      <td>26021120</td>\n",
       "      <td>DEBIT PURCHASE CHE PANDA EXPR SAN JOSE CA</td>\n",
       "      <td>13.98</td>\n",
       "      <td>USD</td>\n",
       "      <td>0</td>\n",
       "      <td>USD</td>\n",
       "      <td>0.00</td>\n",
       "      <td>0.00</td>\n",
       "      <td>0</td>\n",
       "      <td>0</td>\n",
       "      <td>13.98</td>\n",
       "      <td>Dr</td>\n",
       "    </tr>\n",
       "    <tr>\n",
       "      <th>DEBIT PURCHASE PAMF 685 COLEMAN MF SAN JOSE CA</th>\n",
       "      <td>2018-10-16</td>\n",
       "      <td>2018-10-14</td>\n",
       "      <td>31840420</td>\n",
       "      <td>DEBIT PURCHASE PAMF 685 COLEMAN MF SAN JOSE CA</td>\n",
       "      <td>79.00</td>\n",
       "      <td>USD</td>\n",
       "      <td>0</td>\n",
       "      <td>USD</td>\n",
       "      <td>0.00</td>\n",
       "      <td>0.00</td>\n",
       "      <td>0</td>\n",
       "      <td>0</td>\n",
       "      <td>79.00</td>\n",
       "      <td>Dr</td>\n",
       "    </tr>\n",
       "    <tr>\n",
       "      <th>DEBIT PURCHASE THE CHOCOLATE MARKET SAN FRANCISCO CA</th>\n",
       "      <td>2018-12-20</td>\n",
       "      <td>2018-12-18</td>\n",
       "      <td>37923858</td>\n",
       "      <td>DEBIT PURCHASE THE CHOCOLATE MARKET SAN FRANCI...</td>\n",
       "      <td>4.88</td>\n",
       "      <td>USD</td>\n",
       "      <td>0</td>\n",
       "      <td>USD</td>\n",
       "      <td>0.00</td>\n",
       "      <td>0.00</td>\n",
       "      <td>0</td>\n",
       "      <td>0</td>\n",
       "      <td>4.88</td>\n",
       "      <td>Dr</td>\n",
       "    </tr>\n",
       "    <tr>\n",
       "      <th>DEBIT PURCHASE THE CHOCOLATE MARKET SAN FRANCISCO CA</th>\n",
       "      <td>2018-12-20</td>\n",
       "      <td>2018-12-18</td>\n",
       "      <td>37923361</td>\n",
       "      <td>DEBIT PURCHASE THE CHOCOLATE MARKET SAN FRANCI...</td>\n",
       "      <td>9.77</td>\n",
       "      <td>USD</td>\n",
       "      <td>0</td>\n",
       "      <td>USD</td>\n",
       "      <td>0.00</td>\n",
       "      <td>0.00</td>\n",
       "      <td>0</td>\n",
       "      <td>0</td>\n",
       "      <td>9.77</td>\n",
       "      <td>Dr</td>\n",
       "    </tr>\n",
       "  </tbody>\n",
       "</table>\n",
       "</div>"
      ],
      "text/plain": [
       "                                                      st_date     t_date  \\\n",
       "tran_details                                                               \n",
       "MEMO CASH ADVANCE BANK OF AMERICA CA0158 SAN JO... 2018-08-18 2018-08-16   \n",
       "DEBIT PURCHASE CHE PANDA EXPR SAN JOSE CA          2018-08-19 2018-08-16   \n",
       "DEBIT PURCHASE PAMF 685 COLEMAN MF SAN JOSE CA     2018-10-16 2018-10-14   \n",
       "DEBIT PURCHASE THE CHOCOLATE MARKET SAN FRANCIS... 2018-12-20 2018-12-18   \n",
       "DEBIT PURCHASE THE CHOCOLATE MARKET SAN FRANCIS... 2018-12-20 2018-12-18   \n",
       "\n",
       "                                                     ref_num  \\\n",
       "tran_details                                                   \n",
       "MEMO CASH ADVANCE BANK OF AMERICA CA0158 SAN JO...  26025468   \n",
       "DEBIT PURCHASE CHE PANDA EXPR SAN JOSE CA           26021120   \n",
       "DEBIT PURCHASE PAMF 685 COLEMAN MF SAN JOSE CA      31840420   \n",
       "DEBIT PURCHASE THE CHOCOLATE MARKET SAN FRANCIS...  37923858   \n",
       "DEBIT PURCHASE THE CHOCOLATE MARKET SAN FRANCIS...  37923361   \n",
       "\n",
       "                                                                                         tran_details  \\\n",
       "tran_details                                                                                            \n",
       "MEMO CASH ADVANCE BANK OF AMERICA CA0158 SAN JO...  MEMO CASH ADVANCE BANK OF AMERICA CA0158 SAN J...   \n",
       "DEBIT PURCHASE CHE PANDA EXPR SAN JOSE CA                   DEBIT PURCHASE CHE PANDA EXPR SAN JOSE CA   \n",
       "DEBIT PURCHASE PAMF 685 COLEMAN MF SAN JOSE CA         DEBIT PURCHASE PAMF 685 COLEMAN MF SAN JOSE CA   \n",
       "DEBIT PURCHASE THE CHOCOLATE MARKET SAN FRANCIS...  DEBIT PURCHASE THE CHOCOLATE MARKET SAN FRANCI...   \n",
       "DEBIT PURCHASE THE CHOCOLATE MARKET SAN FRANCIS...  DEBIT PURCHASE THE CHOCOLATE MARKET SAN FRANCI...   \n",
       "\n",
       "                                                    t_amount curr  s_amt  \\\n",
       "tran_details                                                               \n",
       "MEMO CASH ADVANCE BANK OF AMERICA CA0158 SAN JO...    100.00  USD      0   \n",
       "DEBIT PURCHASE CHE PANDA EXPR SAN JOSE CA              13.98  USD      0   \n",
       "DEBIT PURCHASE PAMF 685 COLEMAN MF SAN JOSE CA         79.00  USD      0   \n",
       "DEBIT PURCHASE THE CHOCOLATE MARKET SAN FRANCIS...      4.88  USD      0   \n",
       "DEBIT PURCHASE THE CHOCOLATE MARKET SAN FRANCIS...      9.77  USD      0   \n",
       "\n",
       "                                                   curr_2  fee_amt  fee_gst  \\\n",
       "tran_details                                                                  \n",
       "MEMO CASH ADVANCE BANK OF AMERICA CA0158 SAN JO...    USD     1.75     0.32   \n",
       "DEBIT PURCHASE CHE PANDA EXPR SAN JOSE CA             USD     0.00     0.00   \n",
       "DEBIT PURCHASE PAMF 685 COLEMAN MF SAN JOSE CA        USD     0.00     0.00   \n",
       "DEBIT PURCHASE THE CHOCOLATE MARKET SAN FRANCIS...    USD     0.00     0.00   \n",
       "DEBIT PURCHASE THE CHOCOLATE MARKET SAN FRANCIS...    USD     0.00     0.00   \n",
       "\n",
       "                                                    cross_charges  gst_cross  \\\n",
       "tran_details                                                                   \n",
       "MEMO CASH ADVANCE BANK OF AMERICA CA0158 SAN JO...              0          0   \n",
       "DEBIT PURCHASE CHE PANDA EXPR SAN JOSE CA                       0          0   \n",
       "DEBIT PURCHASE PAMF 685 COLEMAN MF SAN JOSE CA                  0          0   \n",
       "DEBIT PURCHASE THE CHOCOLATE MARKET SAN FRANCIS...              0          0   \n",
       "DEBIT PURCHASE THE CHOCOLATE MARKET SAN FRANCIS...              0          0   \n",
       "\n",
       "                                                    total_amt D_C  \n",
       "tran_details                                                       \n",
       "MEMO CASH ADVANCE BANK OF AMERICA CA0158 SAN JO...     102.07  Dr  \n",
       "DEBIT PURCHASE CHE PANDA EXPR SAN JOSE CA               13.98  Dr  \n",
       "DEBIT PURCHASE PAMF 685 COLEMAN MF SAN JOSE CA          79.00  Dr  \n",
       "DEBIT PURCHASE THE CHOCOLATE MARKET SAN FRANCIS...       4.88  Dr  \n",
       "DEBIT PURCHASE THE CHOCOLATE MARKET SAN FRANCIS...       9.77  Dr  "
      ]
     },
     "execution_count": 621,
     "metadata": {},
     "output_type": "execute_result"
    }
   ],
   "source": [
    "data.set_index(data_copy.tran_details, inplace=True)\n",
    "\n",
    "# removing the highest amount as it was deposited.\n",
    "data.drop(\"Card Reload F0566I19SDD22005\", inplace=True, axis=0)\n",
    "data.drop(\"Card Reload F0566I19SCX88728\", inplace=True, axis=0)\n",
    "\n",
    "# resetting index\n",
    "data.head()"
   ]
  },
  {
   "cell_type": "code",
   "execution_count": 622,
   "metadata": {},
   "outputs": [],
   "source": [
    "# Reset the index\n",
    "data.reset_index(drop=True, inplace=True)"
   ]
  },
  {
   "cell_type": "code",
   "execution_count": 623,
   "metadata": {},
   "outputs": [
    {
     "data": {
      "text/html": [
       "<div>\n",
       "<style scoped>\n",
       "    .dataframe tbody tr th:only-of-type {\n",
       "        vertical-align: middle;\n",
       "    }\n",
       "\n",
       "    .dataframe tbody tr th {\n",
       "        vertical-align: top;\n",
       "    }\n",
       "\n",
       "    .dataframe thead th {\n",
       "        text-align: right;\n",
       "    }\n",
       "</style>\n",
       "<table border=\"1\" class=\"dataframe\">\n",
       "  <thead>\n",
       "    <tr style=\"text-align: right;\">\n",
       "      <th></th>\n",
       "      <th>t_date</th>\n",
       "      <th>tran_details</th>\n",
       "      <th>t_amount</th>\n",
       "    </tr>\n",
       "  </thead>\n",
       "  <tbody>\n",
       "    <tr>\n",
       "      <th>0</th>\n",
       "      <td>2018-08-16</td>\n",
       "      <td>MEMO CASH ADVANCE BANK OF AMERICA CA0158 SAN J...</td>\n",
       "      <td>100.00</td>\n",
       "    </tr>\n",
       "    <tr>\n",
       "      <th>1</th>\n",
       "      <td>2018-08-16</td>\n",
       "      <td>DEBIT PURCHASE CHE PANDA EXPR SAN JOSE CA</td>\n",
       "      <td>13.98</td>\n",
       "    </tr>\n",
       "    <tr>\n",
       "      <th>2</th>\n",
       "      <td>2018-10-14</td>\n",
       "      <td>DEBIT PURCHASE PAMF 685 COLEMAN MF SAN JOSE CA</td>\n",
       "      <td>79.00</td>\n",
       "    </tr>\n",
       "    <tr>\n",
       "      <th>3</th>\n",
       "      <td>2018-12-18</td>\n",
       "      <td>DEBIT PURCHASE THE CHOCOLATE MARKET SAN FRANCI...</td>\n",
       "      <td>4.88</td>\n",
       "    </tr>\n",
       "    <tr>\n",
       "      <th>4</th>\n",
       "      <td>2018-12-18</td>\n",
       "      <td>DEBIT PURCHASE THE CHOCOLATE MARKET SAN FRANCI...</td>\n",
       "      <td>9.77</td>\n",
       "    </tr>\n",
       "  </tbody>\n",
       "</table>\n",
       "</div>"
      ],
      "text/plain": [
       "      t_date                                       tran_details  t_amount\n",
       "0 2018-08-16  MEMO CASH ADVANCE BANK OF AMERICA CA0158 SAN J...    100.00\n",
       "1 2018-08-16          DEBIT PURCHASE CHE PANDA EXPR SAN JOSE CA     13.98\n",
       "2 2018-10-14     DEBIT PURCHASE PAMF 685 COLEMAN MF SAN JOSE CA     79.00\n",
       "3 2018-12-18  DEBIT PURCHASE THE CHOCOLATE MARKET SAN FRANCI...      4.88\n",
       "4 2018-12-18  DEBIT PURCHASE THE CHOCOLATE MARKET SAN FRANCI...      9.77"
      ]
     },
     "execution_count": 623,
     "metadata": {},
     "output_type": "execute_result"
    }
   ],
   "source": [
    "# removing settlement date, reference number, curr, s_amt, curr_2, fee_amt, fee_gst, cross_charges, gst_cross, d_c\n",
    "data.drop(columns=[\"st_date\", \"ref_num\",\"total_amt\",\"curr\",\"s_amt\",\"curr_2\", \"fee_amt\", \"fee_gst\", \"cross_charges\", \"gst_cross\", \"D_C\"], axis=1,inplace=True)\n",
    "data.head()\n"
   ]
  },
  {
   "cell_type": "markdown",
   "metadata": {},
   "source": [
    "### We removed all the unrequired columns as follows:\n",
    "- st_date: We do not care about the settlement date\n",
    "- ref_num: Reference number is no use to us\n",
    "- curr: We already know the currency (Everything is in $)\n",
    "- s_amt: Settlement amount\n",
    "- fee_amt: this amount is negligible\n",
    "- D_c: no use to the user"
   ]
  },
  {
   "cell_type": "code",
   "execution_count": 624,
   "metadata": {},
   "outputs": [],
   "source": [
    "threshold = 10.0 # For a student, spending more than or equal to $10 is considered expensive (can be changed)\n",
    "data[\"is_place_duplicated\"] = data[\"tran_details\"].duplicated()"
   ]
  },
  {
   "cell_type": "markdown",
   "metadata": {},
   "source": [
    "- Now we aim to set a new column to tackle the tran_details column and make it useful. We aim to apply feature engineering to set all the places where I have spent above the threshold 1 and the other places as 0."
   ]
  },
  {
   "cell_type": "code",
   "execution_count": 625,
   "metadata": {},
   "outputs": [],
   "source": [
    "\"\"\"\n",
    "    return all the duplicated places.\n",
    "\"\"\"\n",
    "def get_duplicated_places(data, key=\"is_place_duplicated\"):\n",
    "    places = []\n",
    "    for place, t_f in zip(data[\"tran_details\"],data[key]):\n",
    "        if t_f:\n",
    "            places.append(place)\n",
    "        else:\n",
    "            pass\n",
    "    return places\n",
    "\n",
    "# get the count for each place.\n",
    "def get_count():\n",
    "    places = {\"place\":[], \"count\":[]}\n",
    "    for place, count in zip(data.tran_details.value_counts().keys(), data.tran_details.value_counts().values):\n",
    "        places[\"place\"].append(place)\n",
    "        places[\"count\"].append(count)\n",
    "    return places\n"
   ]
  },
  {
   "cell_type": "code",
   "execution_count": 626,
   "metadata": {},
   "outputs": [
    {
     "name": "stdout",
     "output_type": "stream",
     "text": [
      "DEBIT PURCHASE THE CHOCOLATE MARKET SAN FRANCISCO CA\n",
      "ECOM DEBIT Completion UBR* PENDING.UBER.COM SAN FRANCISCO CA\n",
      "ECOM DEBIT Completion AMZN Pickup Amzn.com/bill WA\n",
      "DEBIT PURCHASE 7-ELEVEN 14288 SAN JOSE CA\n",
      "DEBIT PURCHASE 7-ELEVEN 14288 SAN JOSE CA\n",
      "ECOM DEBIT Completion AMZN Mktp US Amzn.com/bill WA\n",
      "DEBIT PURCHASE 7-ELEVEN 14288 SAN JOSE CA\n",
      "DEBIT PURCHASE 7-ELEVEN 95113 SAN JOSE CA\n",
      "DEBIT PURCHASE 7-ELEVEN 95113 SAN JOSE CA\n",
      "DEBIT PURCHASE 7-ELEVEN 14288 SAN JOSE CA\n",
      "MEMO CASH ADVANCE BANK OF AMERICA CA0158 SAN JOSE CA\n",
      "DEBIT PURCHASE H20 WIRELESS FORT LEE NJ\n",
      "DEBIT PURCHASE THE CHOCOLATE MARKET SAN FRANCISCO CA\n",
      "ECOM DEBIT Completion Lyft *Pending SAN FRANCISCO CA\n",
      "DEBIT PURCHASE THE MARKET (SAFEWAY) San Jose CA\n"
     ]
    }
   ],
   "source": [
    "for place in  (get_duplicated_places(data)):\n",
    "    print (place)"
   ]
  },
  {
   "cell_type": "markdown",
   "metadata": {},
   "source": [
    "- All the duplicated places where I have spent money."
   ]
  },
  {
   "cell_type": "code",
   "execution_count": 627,
   "metadata": {},
   "outputs": [
    {
     "data": {
      "text/html": [
       "<div>\n",
       "<style scoped>\n",
       "    .dataframe tbody tr th:only-of-type {\n",
       "        vertical-align: middle;\n",
       "    }\n",
       "\n",
       "    .dataframe tbody tr th {\n",
       "        vertical-align: top;\n",
       "    }\n",
       "\n",
       "    .dataframe thead th {\n",
       "        text-align: right;\n",
       "    }\n",
       "</style>\n",
       "<table border=\"1\" class=\"dataframe\">\n",
       "  <thead>\n",
       "    <tr style=\"text-align: right;\">\n",
       "      <th></th>\n",
       "      <th>t_date</th>\n",
       "      <th>tran_details</th>\n",
       "      <th>t_amount</th>\n",
       "      <th>is_place_duplicated</th>\n",
       "    </tr>\n",
       "  </thead>\n",
       "  <tbody>\n",
       "    <tr>\n",
       "      <th>0</th>\n",
       "      <td>2018-08-16</td>\n",
       "      <td>MEMO CASH ADVANCE BANK OF AMERICA CA0158 SAN J...</td>\n",
       "      <td>100.00</td>\n",
       "      <td>False</td>\n",
       "    </tr>\n",
       "    <tr>\n",
       "      <th>1</th>\n",
       "      <td>2018-08-16</td>\n",
       "      <td>DEBIT PURCHASE CHE PANDA EXPR SAN JOSE CA</td>\n",
       "      <td>13.98</td>\n",
       "      <td>False</td>\n",
       "    </tr>\n",
       "    <tr>\n",
       "      <th>2</th>\n",
       "      <td>2018-10-14</td>\n",
       "      <td>DEBIT PURCHASE PAMF 685 COLEMAN MF SAN JOSE CA</td>\n",
       "      <td>79.00</td>\n",
       "      <td>False</td>\n",
       "    </tr>\n",
       "    <tr>\n",
       "      <th>3</th>\n",
       "      <td>2018-12-18</td>\n",
       "      <td>DEBIT PURCHASE THE CHOCOLATE MARKET SAN FRANCI...</td>\n",
       "      <td>4.88</td>\n",
       "      <td>False</td>\n",
       "    </tr>\n",
       "    <tr>\n",
       "      <th>4</th>\n",
       "      <td>2018-12-18</td>\n",
       "      <td>DEBIT PURCHASE THE CHOCOLATE MARKET SAN FRANCI...</td>\n",
       "      <td>9.77</td>\n",
       "      <td>True</td>\n",
       "    </tr>\n",
       "  </tbody>\n",
       "</table>\n",
       "</div>"
      ],
      "text/plain": [
       "      t_date                                       tran_details  t_amount  \\\n",
       "0 2018-08-16  MEMO CASH ADVANCE BANK OF AMERICA CA0158 SAN J...    100.00   \n",
       "1 2018-08-16          DEBIT PURCHASE CHE PANDA EXPR SAN JOSE CA     13.98   \n",
       "2 2018-10-14     DEBIT PURCHASE PAMF 685 COLEMAN MF SAN JOSE CA     79.00   \n",
       "3 2018-12-18  DEBIT PURCHASE THE CHOCOLATE MARKET SAN FRANCI...      4.88   \n",
       "4 2018-12-18  DEBIT PURCHASE THE CHOCOLATE MARKET SAN FRANCI...      9.77   \n",
       "\n",
       "   is_place_duplicated  \n",
       "0                False  \n",
       "1                False  \n",
       "2                False  \n",
       "3                False  \n",
       "4                 True  "
      ]
     },
     "execution_count": 627,
     "metadata": {},
     "output_type": "execute_result"
    }
   ],
   "source": [
    "data.head()"
   ]
  },
  {
   "cell_type": "code",
   "execution_count": 638,
   "metadata": {},
   "outputs": [
    {
     "name": "stdout",
     "output_type": "stream",
     "text": [
      "Max duplicated place:  5 DEBIT PURCHASE 7-ELEVEN 14288 SAN JOSE CA\n"
     ]
    }
   ],
   "source": [
    "print (\"Max duplicated place: \", data.tran_details.value_counts().max(), (get_count()[\"place\"][0]))"
   ]
  },
  {
   "cell_type": "code",
   "execution_count": 634,
   "metadata": {},
   "outputs": [
    {
     "data": {
      "text/plain": [
       "<matplotlib.axes._subplots.AxesSubplot at 0x1a2d11d9b0>"
      ]
     },
     "execution_count": 634,
     "metadata": {},
     "output_type": "execute_result"
    },
    {
     "data": {
      "image/png": "[encoded data removed]",
      "text/plain": [
       "<Figure size 432x288 with 1 Axes>"
      ]
     },
     "metadata": {
      "needs_background": "light"
     },
     "output_type": "display_data"
    }
   ],
   "source": [
    "pd.DataFrame(get_count()).plot.bar(x=\"place\",y=\"count\")"
   ]
  },
  {
   "cell_type": "markdown",
   "metadata": {},
   "source": [
    "- We can see a distribution of the money spent in these places."
   ]
  },
  {
   "cell_type": "code",
   "execution_count": 639,
   "metadata": {},
   "outputs": [
    {
     "data": {
      "text/plain": [
       "tran_details\n",
       "DEBIT PURCHASE 7-ELEVEN 14288 SAN JOSE CA                        30.67\n",
       "DEBIT PURCHASE 7-ELEVEN 95113 SAN JOSE CA                         8.14\n",
       "DEBIT PURCHASE CHE PANDA EXPR SAN JOSE CA                        13.98\n",
       "DEBIT PURCHASE CHE PASEO MRKT SAN JOSE CA                         1.93\n",
       "DEBIT PURCHASE DICK'S SPORTING GOODS MILPITAS CA                 49.03\n",
       "DEBIT PURCHASE H20 WIRELESS FORT LEE NJ                          30.00\n",
       "DEBIT PURCHASE JACK IN THE BOX 0409 SAN JOSE CA                   6.87\n",
       "DEBIT PURCHASE KOI PALACE EXPRESS SAN FRANCISCO CA               14.41\n",
       "DEBIT PURCHASE MADRAS GROCERIES SUNNYVALE CA                      7.98\n",
       "DEBIT PURCHASE NAPA FARMS MARKET TG SAN FRANCISCO CA              3.27\n",
       "DEBIT PURCHASE NEW STAND AREA G SAN FRANCISCO CA                  2.99\n",
       "DEBIT PURCHASE PAMF 685 COLEMAN MF SAN JOSE CA                   79.00\n",
       "DEBIT PURCHASE SJSUNIBKSTORE #80110 SAN JOSE CA                 110.72\n",
       "DEBIT PURCHASE SQU*SQ *JOE & THE JUIC San Francisco CA            7.83\n",
       "DEBIT PURCHASE SUPERCUTS SAN JOSE CA                             19.95\n",
       "DEBIT PURCHASE THE CHOCOLATE MARKET SAN FRANCISCO CA             34.63\n",
       "DEBIT PURCHASE THE MARKET (SAFE) 2934 San Jose CA                 9.26\n",
       "DEBIT PURCHASE THE MARKET (SAFEWAY) San Jose CA                  24.77\n",
       "DEBIT PURCHASE WILEY BOOK PUBLISHERS INDIANAPOLIS IN             76.00\n",
       "ECOM DEBIT Completion AMZN Mktp US Amzn.com/bill WA              32.74\n",
       "ECOM DEBIT Completion AMZN Pickup Amzn.com/bill WA               28.35\n",
       "ECOM DEBIT Completion Bigzpoon 4087754040 CA                      7.96\n",
       "ECOM DEBIT Completion CONNECT4EDUCATION 703-880-1180 VA         109.95\n",
       "ECOM DEBIT Completion Lyft *Pending SAN FRANCISCO CA             32.91\n",
       "ECOM DEBIT Completion SP * PETE PEDRO MARIETTA GA                21.72\n",
       "ECOM DEBIT Completion TCD*CENGAGE LEARNING 800-354-9706 KY      125.00\n",
       "ECOM DEBIT Completion UBR* PENDING.UBER.COM SAN FRANCISCO CA    152.94\n",
       "MEMO CASH ADVANCE BANK OF AMERICA CA0158 SAN JOSE CA            300.00\n",
       "Name: t_amount, dtype: float64"
      ]
     },
     "execution_count": 639,
     "metadata": {},
     "output_type": "execute_result"
    }
   ],
   "source": [
    "# Total money spent at each place.\n",
    "# We removed these two keys as these were the money reloaded texts.\n",
    "data.groupby(\"tran_details\")[\"t_amount\"].sum()"
   ]
  },
  {
   "cell_type": "code",
   "execution_count": 645,
   "metadata": {},
   "outputs": [
    {
     "name": "stdout",
     "output_type": "stream",
     "text": [
      "Max money spent:  300.0\n"
     ]
    },
    {
     "data": {
      "text/plain": [
       "tran_details\n",
       "DEBIT PURCHASE 7-ELEVEN 14288 SAN JOSE CA                        30.67\n",
       "DEBIT PURCHASE 7-ELEVEN 95113 SAN JOSE CA                         8.14\n",
       "DEBIT PURCHASE CHE PANDA EXPR SAN JOSE CA                        13.98\n",
       "DEBIT PURCHASE CHE PASEO MRKT SAN JOSE CA                         1.93\n",
       "DEBIT PURCHASE DICK'S SPORTING GOODS MILPITAS CA                 49.03\n",
       "DEBIT PURCHASE H20 WIRELESS FORT LEE NJ                          30.00\n",
       "DEBIT PURCHASE JACK IN THE BOX 0409 SAN JOSE CA                   6.87\n",
       "DEBIT PURCHASE KOI PALACE EXPRESS SAN FRANCISCO CA               14.41\n",
       "DEBIT PURCHASE MADRAS GROCERIES SUNNYVALE CA                      7.98\n",
       "DEBIT PURCHASE NAPA FARMS MARKET TG SAN FRANCISCO CA              3.27\n",
       "DEBIT PURCHASE NEW STAND AREA G SAN FRANCISCO CA                  2.99\n",
       "DEBIT PURCHASE PAMF 685 COLEMAN MF SAN JOSE CA                   79.00\n",
       "DEBIT PURCHASE SJSUNIBKSTORE #80110 SAN JOSE CA                 110.72\n",
       "DEBIT PURCHASE SQU*SQ *JOE & THE JUIC San Francisco CA            7.83\n",
       "DEBIT PURCHASE SUPERCUTS SAN JOSE CA                             19.95\n",
       "DEBIT PURCHASE THE CHOCOLATE MARKET SAN FRANCISCO CA             34.63\n",
       "DEBIT PURCHASE THE MARKET (SAFE) 2934 San Jose CA                 9.26\n",
       "DEBIT PURCHASE THE MARKET (SAFEWAY) San Jose CA                  24.77\n",
       "DEBIT PURCHASE WILEY BOOK PUBLISHERS INDIANAPOLIS IN             76.00\n",
       "ECOM DEBIT Completion AMZN Mktp US Amzn.com/bill WA              32.74\n",
       "ECOM DEBIT Completion AMZN Pickup Amzn.com/bill WA               28.35\n",
       "ECOM DEBIT Completion Bigzpoon 4087754040 CA                      7.96\n",
       "ECOM DEBIT Completion CONNECT4EDUCATION 703-880-1180 VA         109.95\n",
       "ECOM DEBIT Completion Lyft *Pending SAN FRANCISCO CA             32.91\n",
       "ECOM DEBIT Completion SP * PETE PEDRO MARIETTA GA                21.72\n",
       "ECOM DEBIT Completion TCD*CENGAGE LEARNING 800-354-9706 KY      125.00\n",
       "ECOM DEBIT Completion UBR* PENDING.UBER.COM SAN FRANCISCO CA    152.94\n",
       "MEMO CASH ADVANCE BANK OF AMERICA CA0158 SAN JOSE CA            300.00\n",
       "Name: t_amount, dtype: float64"
      ]
     },
     "execution_count": 645,
     "metadata": {},
     "output_type": "execute_result"
    }
   ],
   "source": [
    "# the max money spent\n",
    "print (\"Max money spent: \", data.groupby(\"tran_details\")[\"t_amount\"].sum().max())\n",
    "data.groupby(\"tran_details\")[\"t_amount\"].sum()"
   ]
  },
  {
   "cell_type": "code",
   "execution_count": 646,
   "metadata": {},
   "outputs": [
    {
     "name": "stdout",
     "output_type": "stream",
     "text": [
      "Min money spent:  1.93\n"
     ]
    }
   ],
   "source": [
    "print (\"Min money spent: \", data.groupby(\"tran_details\")[\"t_amount\"].sum().min())"
   ]
  },
  {
   "cell_type": "code",
   "execution_count": 647,
   "metadata": {},
   "outputs": [
    {
     "name": "stdout",
     "output_type": "stream",
     "text": [
      "Mean money spent:  47.964285714285715\n"
     ]
    }
   ],
   "source": [
    "print (\"Mean money spent: \", data.groupby(\"tran_details\")[\"t_amount\"].sum().mean())"
   ]
  },
  {
   "cell_type": "markdown",
   "metadata": {},
   "source": [
    "- Here we can see the max, min and the mean spent on these places."
   ]
  },
  {
   "cell_type": "code",
   "execution_count": 648,
   "metadata": {},
   "outputs": [],
   "source": [
    "# create a new column (perform feature engineering)\n",
    "def create_new_column():\n",
    "    \n",
    "    # replacing values of tran_details where t_amount is >= 10.0 with 1 or else 0 or we can use np.where()\n",
    "    (data.tran_details[data.t_amount>=10.0]) = 1\n",
    "    (data.tran_details[data.t_amount<10.0]) = 0"
   ]
  },
  {
   "cell_type": "code",
   "execution_count": 649,
   "metadata": {},
   "outputs": [],
   "source": [
    "create_new_column() # create the new column"
   ]
  },
  {
   "cell_type": "code",
   "execution_count": 650,
   "metadata": {},
   "outputs": [
    {
     "data": {
      "text/html": [
       "<div>\n",
       "<style scoped>\n",
       "    .dataframe tbody tr th:only-of-type {\n",
       "        vertical-align: middle;\n",
       "    }\n",
       "\n",
       "    .dataframe tbody tr th {\n",
       "        vertical-align: top;\n",
       "    }\n",
       "\n",
       "    .dataframe thead th {\n",
       "        text-align: right;\n",
       "    }\n",
       "</style>\n",
       "<table border=\"1\" class=\"dataframe\">\n",
       "  <thead>\n",
       "    <tr style=\"text-align: right;\">\n",
       "      <th></th>\n",
       "      <th>t_date</th>\n",
       "      <th>tran_details</th>\n",
       "      <th>t_amount</th>\n",
       "      <th>is_place_duplicated</th>\n",
       "    </tr>\n",
       "  </thead>\n",
       "  <tbody>\n",
       "    <tr>\n",
       "      <th>0</th>\n",
       "      <td>2018-08-16</td>\n",
       "      <td>1</td>\n",
       "      <td>100.00</td>\n",
       "      <td>False</td>\n",
       "    </tr>\n",
       "    <tr>\n",
       "      <th>1</th>\n",
       "      <td>2018-08-16</td>\n",
       "      <td>1</td>\n",
       "      <td>13.98</td>\n",
       "      <td>False</td>\n",
       "    </tr>\n",
       "    <tr>\n",
       "      <th>2</th>\n",
       "      <td>2018-10-14</td>\n",
       "      <td>1</td>\n",
       "      <td>79.00</td>\n",
       "      <td>False</td>\n",
       "    </tr>\n",
       "    <tr>\n",
       "      <th>3</th>\n",
       "      <td>2018-12-18</td>\n",
       "      <td>0</td>\n",
       "      <td>4.88</td>\n",
       "      <td>False</td>\n",
       "    </tr>\n",
       "    <tr>\n",
       "      <th>4</th>\n",
       "      <td>2018-12-18</td>\n",
       "      <td>0</td>\n",
       "      <td>9.77</td>\n",
       "      <td>True</td>\n",
       "    </tr>\n",
       "  </tbody>\n",
       "</table>\n",
       "</div>"
      ],
      "text/plain": [
       "      t_date tran_details  t_amount  is_place_duplicated\n",
       "0 2018-08-16            1    100.00                False\n",
       "1 2018-08-16            1     13.98                False\n",
       "2 2018-10-14            1     79.00                False\n",
       "3 2018-12-18            0      4.88                False\n",
       "4 2018-12-18            0      9.77                 True"
      ]
     },
     "execution_count": 650,
     "metadata": {},
     "output_type": "execute_result"
    }
   ],
   "source": [
    "data.head()"
   ]
  },
  {
   "cell_type": "markdown",
   "metadata": {},
   "source": [
    "- As we can see, the tran_details have been changed according to the money I spent in t_amount following the threshold.\n",
    "- So now let us change the dates to days and calculate the most frequent date/day."
   ]
  },
  {
   "cell_type": "code",
   "execution_count": 651,
   "metadata": {},
   "outputs": [],
   "source": [
    "data[\"is_place_duplicated\"]=data[\"is_place_duplicated\"].map({False:0, True:1}) # changing the is_place_duplicated"
   ]
  },
  {
   "cell_type": "code",
   "execution_count": 652,
   "metadata": {},
   "outputs": [
    {
     "data": {
      "text/html": [
       "<div>\n",
       "<style scoped>\n",
       "    .dataframe tbody tr th:only-of-type {\n",
       "        vertical-align: middle;\n",
       "    }\n",
       "\n",
       "    .dataframe tbody tr th {\n",
       "        vertical-align: top;\n",
       "    }\n",
       "\n",
       "    .dataframe thead th {\n",
       "        text-align: right;\n",
       "    }\n",
       "</style>\n",
       "<table border=\"1\" class=\"dataframe\">\n",
       "  <thead>\n",
       "    <tr style=\"text-align: right;\">\n",
       "      <th></th>\n",
       "      <th>t_date</th>\n",
       "      <th>tran_details</th>\n",
       "      <th>t_amount</th>\n",
       "      <th>is_place_duplicated</th>\n",
       "    </tr>\n",
       "  </thead>\n",
       "  <tbody>\n",
       "    <tr>\n",
       "      <th>0</th>\n",
       "      <td>2018-08-16</td>\n",
       "      <td>1</td>\n",
       "      <td>100.00</td>\n",
       "      <td>0</td>\n",
       "    </tr>\n",
       "    <tr>\n",
       "      <th>1</th>\n",
       "      <td>2018-08-16</td>\n",
       "      <td>1</td>\n",
       "      <td>13.98</td>\n",
       "      <td>0</td>\n",
       "    </tr>\n",
       "    <tr>\n",
       "      <th>2</th>\n",
       "      <td>2018-10-14</td>\n",
       "      <td>1</td>\n",
       "      <td>79.00</td>\n",
       "      <td>0</td>\n",
       "    </tr>\n",
       "    <tr>\n",
       "      <th>3</th>\n",
       "      <td>2018-12-18</td>\n",
       "      <td>0</td>\n",
       "      <td>4.88</td>\n",
       "      <td>0</td>\n",
       "    </tr>\n",
       "    <tr>\n",
       "      <th>4</th>\n",
       "      <td>2018-12-18</td>\n",
       "      <td>0</td>\n",
       "      <td>9.77</td>\n",
       "      <td>1</td>\n",
       "    </tr>\n",
       "  </tbody>\n",
       "</table>\n",
       "</div>"
      ],
      "text/plain": [
       "      t_date tran_details  t_amount  is_place_duplicated\n",
       "0 2018-08-16            1    100.00                    0\n",
       "1 2018-08-16            1     13.98                    0\n",
       "2 2018-10-14            1     79.00                    0\n",
       "3 2018-12-18            0      4.88                    0\n",
       "4 2018-12-18            0      9.77                    1"
      ]
     },
     "execution_count": 652,
     "metadata": {},
     "output_type": "execute_result"
    }
   ],
   "source": [
    "data.head()"
   ]
  },
  {
   "cell_type": "markdown",
   "metadata": {},
   "source": [
    "- Changing the is_place_duplicated column to numerical form."
   ]
  },
  {
   "cell_type": "code",
   "execution_count": 653,
   "metadata": {},
   "outputs": [
    {
     "data": {
      "text/plain": [
       "<matplotlib.axes._subplots.AxesSubplot at 0x1a2d003fd0>"
      ]
     },
     "execution_count": 653,
     "metadata": {},
     "output_type": "execute_result"
    },
    {
     "data": {
      "image/png": "[encoded data removed]",
      "text/plain": [
       "<Figure size 432x288 with 1 Axes>"
      ]
     },
     "metadata": {
      "needs_background": "light"
     },
     "output_type": "display_data"
    }
   ],
   "source": [
    "sns.lineplot(x=\"t_date\",y=\"t_amount\", data=data, hue=\"is_place_duplicated\")"
   ]
  },
  {
   "cell_type": "markdown",
   "metadata": {},
   "source": [
    "- A line plot that demonstrates the fluctuation of t_amount w.r.t t_date"
   ]
  },
  {
   "cell_type": "code",
   "execution_count": 424,
   "metadata": {},
   "outputs": [
    {
     "data": {
      "text/plain": [
       "<matplotlib.axes._subplots.AxesSubplot at 0x1a2cd63b38>"
      ]
     },
     "execution_count": 424,
     "metadata": {},
     "output_type": "execute_result"
    },
    {
     "data": {
      "image/png": "[encoded data removed]",
      "text/plain": [
       "<Figure size 432x288 with 1 Axes>"
      ]
     },
     "metadata": {
      "needs_background": "light"
     },
     "output_type": "display_data"
    }
   ],
   "source": [
    "sns.scatterplot(x=\"t_amount\",y=\"t_date\", data=data,hue=\"is_place_duplicated\" )"
   ]
  },
  {
   "cell_type": "markdown",
   "metadata": {},
   "source": [
    "- a scatter plot that represents on what date I spent the most money on."
   ]
  },
  {
   "cell_type": "code",
   "execution_count": 425,
   "metadata": {},
   "outputs": [
    {
     "data": {
      "text/plain": [
       "<matplotlib.axes._subplots.AxesSubplot at 0x1a2ce27e80>"
      ]
     },
     "execution_count": 425,
     "metadata": {},
     "output_type": "execute_result"
    },
    {
     "data": {
      "image/png": "[encoded data removed]",
      "text/plain": [
       "<Figure size 432x288 with 1 Axes>"
      ]
     },
     "metadata": {
      "needs_background": "light"
     },
     "output_type": "display_data"
    }
   ],
   "source": [
    "sns.countplot(x=\"tran_details\",data=data, hue=\"tran_details\")"
   ]
  },
  {
   "cell_type": "markdown",
   "metadata": {},
   "source": [
    "- As you can see, 1 representing the expensive places has a greater frequency of occuring than 0."
   ]
  },
  {
   "cell_type": "markdown",
   "metadata": {},
   "source": [
    "- Getting individuals stats between expensive and not expensive places."
   ]
  },
  {
   "cell_type": "code",
   "execution_count": 431,
   "metadata": {},
   "outputs": [
    {
     "data": {
      "text/plain": [
       "tran_details\n",
       "0     101.55\n",
       "1    1241.45\n",
       "Name: t_amount, dtype: float64"
      ]
     },
     "execution_count": 431,
     "metadata": {},
     "output_type": "execute_result"
    }
   ],
   "source": [
    "data.groupby(\"tran_details\")[\"t_amount\"].sum()"
   ]
  },
  {
   "cell_type": "markdown",
   "metadata": {},
   "source": [
    "- As you can see, the expensive area costs around $1241 and I spent a lot on these areas."
   ]
  },
  {
   "cell_type": "code",
   "execution_count": 433,
   "metadata": {},
   "outputs": [
    {
     "data": {
      "text/plain": [
       "tran_details\n",
       "0     5.641667\n",
       "1    49.658000\n",
       "Name: t_amount, dtype: float64"
      ]
     },
     "execution_count": 433,
     "metadata": {},
     "output_type": "execute_result"
    }
   ],
   "source": [
    "data.groupby(\"tran_details\")[\"t_amount\"].mean()"
   ]
  },
  {
   "cell_type": "markdown",
   "metadata": {},
   "source": [
    "- As you can see, the expensive area mean costs around $49 and the average spending at an expensive area was about 50."
   ]
  },
  {
   "cell_type": "code",
   "execution_count": 428,
   "metadata": {},
   "outputs": [
    {
     "data": {
      "text/plain": [
       "tran_details\n",
       "0      9.77\n",
       "1    200.00\n",
       "Name: t_amount, dtype: float64"
      ]
     },
     "execution_count": 428,
     "metadata": {},
     "output_type": "execute_result"
    }
   ],
   "source": [
    "data.groupby(\"tran_details\")[\"t_amount\"].max()"
   ]
  },
  {
   "cell_type": "markdown",
   "metadata": {},
   "source": [
    "- As you can see, the max area costs around $200."
   ]
  },
  {
   "cell_type": "code",
   "execution_count": 435,
   "metadata": {},
   "outputs": [
    {
     "data": {
      "text/html": [
       "<div>\n",
       "<style scoped>\n",
       "    .dataframe tbody tr th:only-of-type {\n",
       "        vertical-align: middle;\n",
       "    }\n",
       "\n",
       "    .dataframe tbody tr th {\n",
       "        vertical-align: top;\n",
       "    }\n",
       "\n",
       "    .dataframe thead th {\n",
       "        text-align: right;\n",
       "    }\n",
       "</style>\n",
       "<table border=\"1\" class=\"dataframe\">\n",
       "  <thead>\n",
       "    <tr style=\"text-align: right;\">\n",
       "      <th></th>\n",
       "      <th>t_date</th>\n",
       "      <th>tran_details</th>\n",
       "      <th>t_amount</th>\n",
       "      <th>is_place_duplicated</th>\n",
       "    </tr>\n",
       "  </thead>\n",
       "  <tbody>\n",
       "    <tr>\n",
       "      <th>0</th>\n",
       "      <td>2018-08-16</td>\n",
       "      <td>1</td>\n",
       "      <td>100.00</td>\n",
       "      <td>0</td>\n",
       "    </tr>\n",
       "    <tr>\n",
       "      <th>1</th>\n",
       "      <td>2018-08-16</td>\n",
       "      <td>1</td>\n",
       "      <td>13.98</td>\n",
       "      <td>0</td>\n",
       "    </tr>\n",
       "    <tr>\n",
       "      <th>2</th>\n",
       "      <td>2018-10-14</td>\n",
       "      <td>1</td>\n",
       "      <td>79.00</td>\n",
       "      <td>0</td>\n",
       "    </tr>\n",
       "    <tr>\n",
       "      <th>3</th>\n",
       "      <td>2018-12-18</td>\n",
       "      <td>0</td>\n",
       "      <td>4.88</td>\n",
       "      <td>0</td>\n",
       "    </tr>\n",
       "    <tr>\n",
       "      <th>4</th>\n",
       "      <td>2018-12-18</td>\n",
       "      <td>0</td>\n",
       "      <td>9.77</td>\n",
       "      <td>1</td>\n",
       "    </tr>\n",
       "  </tbody>\n",
       "</table>\n",
       "</div>"
      ],
      "text/plain": [
       "      t_date tran_details  t_amount  is_place_duplicated\n",
       "0 2018-08-16            1    100.00                    0\n",
       "1 2018-08-16            1     13.98                    0\n",
       "2 2018-10-14            1     79.00                    0\n",
       "3 2018-12-18            0      4.88                    0\n",
       "4 2018-12-18            0      9.77                    1"
      ]
     },
     "execution_count": 435,
     "metadata": {},
     "output_type": "execute_result"
    }
   ],
   "source": [
    "data.head()"
   ]
  },
  {
   "cell_type": "markdown",
   "metadata": {},
   "source": [
    "## Date at which I spent the most?"
   ]
  },
  {
   "cell_type": "code",
   "execution_count": 461,
   "metadata": {},
   "outputs": [
    {
     "data": {
      "text/plain": [
       "29   2019-05-20\n",
       "Name: t_date, dtype: datetime64[ns]"
      ]
     },
     "execution_count": 461,
     "metadata": {},
     "output_type": "execute_result"
    }
   ],
   "source": [
    "data.t_date[data.t_amount == np.max(data.t_amount.values)]"
   ]
  },
  {
   "cell_type": "markdown",
   "metadata": {},
   "source": [
    "- The date at which I spent the most was: 2019-05-20."
   ]
  },
  {
   "cell_type": "markdown",
   "metadata": {},
   "source": [
    "## Date at which I spent the least?"
   ]
  },
  {
   "cell_type": "code",
   "execution_count": 460,
   "metadata": {},
   "outputs": [
    {
     "data": {
      "text/plain": [
       "12   2019-02-05\n",
       "23   2019-04-05\n",
       "27   2019-04-26\n",
       "Name: t_date, dtype: datetime64[ns]"
      ]
     },
     "execution_count": 460,
     "metadata": {},
     "output_type": "execute_result"
    }
   ],
   "source": [
    "data.t_date[data.t_amount == np.min(data.t_amount.values)]"
   ]
  },
  {
   "cell_type": "markdown",
   "metadata": {},
   "source": [
    "- There were three dates when I had the minimum amount of money."
   ]
  },
  {
   "cell_type": "markdown",
   "metadata": {},
   "source": [
    "## <u>Data Prepartion for prediction</u>"
   ]
  },
  {
   "cell_type": "code",
   "execution_count": 462,
   "metadata": {},
   "outputs": [
    {
     "data": {
      "text/html": [
       "<div>\n",
       "<style scoped>\n",
       "    .dataframe tbody tr th:only-of-type {\n",
       "        vertical-align: middle;\n",
       "    }\n",
       "\n",
       "    .dataframe tbody tr th {\n",
       "        vertical-align: top;\n",
       "    }\n",
       "\n",
       "    .dataframe thead th {\n",
       "        text-align: right;\n",
       "    }\n",
       "</style>\n",
       "<table border=\"1\" class=\"dataframe\">\n",
       "  <thead>\n",
       "    <tr style=\"text-align: right;\">\n",
       "      <th></th>\n",
       "      <th>t_date</th>\n",
       "      <th>tran_details</th>\n",
       "      <th>t_amount</th>\n",
       "      <th>is_place_duplicated</th>\n",
       "    </tr>\n",
       "  </thead>\n",
       "  <tbody>\n",
       "    <tr>\n",
       "      <th>0</th>\n",
       "      <td>2018-08-16</td>\n",
       "      <td>1</td>\n",
       "      <td>100.00</td>\n",
       "      <td>0</td>\n",
       "    </tr>\n",
       "    <tr>\n",
       "      <th>1</th>\n",
       "      <td>2018-08-16</td>\n",
       "      <td>1</td>\n",
       "      <td>13.98</td>\n",
       "      <td>0</td>\n",
       "    </tr>\n",
       "    <tr>\n",
       "      <th>2</th>\n",
       "      <td>2018-10-14</td>\n",
       "      <td>1</td>\n",
       "      <td>79.00</td>\n",
       "      <td>0</td>\n",
       "    </tr>\n",
       "    <tr>\n",
       "      <th>3</th>\n",
       "      <td>2018-12-18</td>\n",
       "      <td>0</td>\n",
       "      <td>4.88</td>\n",
       "      <td>0</td>\n",
       "    </tr>\n",
       "    <tr>\n",
       "      <th>4</th>\n",
       "      <td>2018-12-18</td>\n",
       "      <td>0</td>\n",
       "      <td>9.77</td>\n",
       "      <td>1</td>\n",
       "    </tr>\n",
       "  </tbody>\n",
       "</table>\n",
       "</div>"
      ],
      "text/plain": [
       "      t_date tran_details  t_amount  is_place_duplicated\n",
       "0 2018-08-16            1    100.00                    0\n",
       "1 2018-08-16            1     13.98                    0\n",
       "2 2018-10-14            1     79.00                    0\n",
       "3 2018-12-18            0      4.88                    0\n",
       "4 2018-12-18            0      9.77                    1"
      ]
     },
     "execution_count": 462,
     "metadata": {},
     "output_type": "execute_result"
    }
   ],
   "source": [
    "data.head()"
   ]
  },
  {
   "cell_type": "markdown",
   "metadata": {},
   "source": [
    "- Now let us move with making a predicting model.\n",
    "- To achieve this, we first convert t_date into days and them encode them with a mapping."
   ]
  },
  {
   "cell_type": "code",
   "execution_count": 498,
   "metadata": {},
   "outputs": [],
   "source": [
    "\"\"\"\n",
    "    convert()\n",
    "    convert the date in to day.\n",
    "\"\"\"\n",
    "def convert(data):\n",
    "    days = []\n",
    "    for date in data[\"t_date\"]:\n",
    "        date = str(date).replace(\"00:00:00\",\"\")\n",
    "        date = date.replace(\"-\",\"/\")\n",
    "        days.append(convert_date_to_week(date))\n",
    "    return days\n",
    "\n",
    "# convert the column\n",
    "data[\"t_date\"] = convert(data)"
   ]
  },
  {
   "cell_type": "markdown",
   "metadata": {},
   "source": [
    "- Now we have about 3 features."
   ]
  },
  {
   "cell_type": "markdown",
   "metadata": {},
   "source": [
    "- Now we have changed the dates to days, we now begin by mapping days to numbers."
   ]
  },
  {
   "cell_type": "code",
   "execution_count": 504,
   "metadata": {},
   "outputs": [],
   "source": [
    "# convert into mapping\n",
    "data[\"t_date\"] = data[\"t_date\"].map(days)"
   ]
  },
  {
   "cell_type": "code",
   "execution_count": 505,
   "metadata": {},
   "outputs": [
    {
     "data": {
      "text/html": [
       "<div>\n",
       "<style scoped>\n",
       "    .dataframe tbody tr th:only-of-type {\n",
       "        vertical-align: middle;\n",
       "    }\n",
       "\n",
       "    .dataframe tbody tr th {\n",
       "        vertical-align: top;\n",
       "    }\n",
       "\n",
       "    .dataframe thead th {\n",
       "        text-align: right;\n",
       "    }\n",
       "</style>\n",
       "<table border=\"1\" class=\"dataframe\">\n",
       "  <thead>\n",
       "    <tr style=\"text-align: right;\">\n",
       "      <th></th>\n",
       "      <th>t_date</th>\n",
       "      <th>tran_details</th>\n",
       "      <th>t_amount</th>\n",
       "      <th>is_place_duplicated</th>\n",
       "    </tr>\n",
       "  </thead>\n",
       "  <tbody>\n",
       "    <tr>\n",
       "      <th>0</th>\n",
       "      <td>3</td>\n",
       "      <td>1</td>\n",
       "      <td>100.00</td>\n",
       "      <td>0</td>\n",
       "    </tr>\n",
       "    <tr>\n",
       "      <th>1</th>\n",
       "      <td>3</td>\n",
       "      <td>1</td>\n",
       "      <td>13.98</td>\n",
       "      <td>0</td>\n",
       "    </tr>\n",
       "    <tr>\n",
       "      <th>2</th>\n",
       "      <td>6</td>\n",
       "      <td>1</td>\n",
       "      <td>79.00</td>\n",
       "      <td>0</td>\n",
       "    </tr>\n",
       "    <tr>\n",
       "      <th>3</th>\n",
       "      <td>1</td>\n",
       "      <td>0</td>\n",
       "      <td>4.88</td>\n",
       "      <td>0</td>\n",
       "    </tr>\n",
       "    <tr>\n",
       "      <th>4</th>\n",
       "      <td>1</td>\n",
       "      <td>0</td>\n",
       "      <td>9.77</td>\n",
       "      <td>1</td>\n",
       "    </tr>\n",
       "  </tbody>\n",
       "</table>\n",
       "</div>"
      ],
      "text/plain": [
       "   t_date tran_details  t_amount  is_place_duplicated\n",
       "0       3            1    100.00                    0\n",
       "1       3            1     13.98                    0\n",
       "2       6            1     79.00                    0\n",
       "3       1            0      4.88                    0\n",
       "4       1            0      9.77                    1"
      ]
     },
     "execution_count": 505,
     "metadata": {},
     "output_type": "execute_result"
    }
   ],
   "source": [
    "data.head()"
   ]
  },
  {
   "cell_type": "code",
   "execution_count": 506,
   "metadata": {},
   "outputs": [
    {
     "data": {
      "text/html": [
       "<div>\n",
       "<style scoped>\n",
       "    .dataframe tbody tr th:only-of-type {\n",
       "        vertical-align: middle;\n",
       "    }\n",
       "\n",
       "    .dataframe tbody tr th {\n",
       "        vertical-align: top;\n",
       "    }\n",
       "\n",
       "    .dataframe thead th {\n",
       "        text-align: right;\n",
       "    }\n",
       "</style>\n",
       "<table border=\"1\" class=\"dataframe\">\n",
       "  <thead>\n",
       "    <tr style=\"text-align: right;\">\n",
       "      <th></th>\n",
       "      <th>t_date</th>\n",
       "      <th>t_amount</th>\n",
       "      <th>is_place_duplicated</th>\n",
       "    </tr>\n",
       "  </thead>\n",
       "  <tbody>\n",
       "    <tr>\n",
       "      <th>t_date</th>\n",
       "      <td>1.000000</td>\n",
       "      <td>-0.248738</td>\n",
       "      <td>-0.020201</td>\n",
       "    </tr>\n",
       "    <tr>\n",
       "      <th>t_amount</th>\n",
       "      <td>-0.248738</td>\n",
       "      <td>1.000000</td>\n",
       "      <td>-0.067875</td>\n",
       "    </tr>\n",
       "    <tr>\n",
       "      <th>is_place_duplicated</th>\n",
       "      <td>-0.020201</td>\n",
       "      <td>-0.067875</td>\n",
       "      <td>1.000000</td>\n",
       "    </tr>\n",
       "  </tbody>\n",
       "</table>\n",
       "</div>"
      ],
      "text/plain": [
       "                       t_date  t_amount  is_place_duplicated\n",
       "t_date               1.000000 -0.248738            -0.020201\n",
       "t_amount            -0.248738  1.000000            -0.067875\n",
       "is_place_duplicated -0.020201 -0.067875             1.000000"
      ]
     },
     "execution_count": 506,
     "metadata": {},
     "output_type": "execute_result"
    }
   ],
   "source": [
    "data.corr()"
   ]
  },
  {
   "cell_type": "markdown",
   "metadata": {},
   "source": [
    "- We see a correlation between the features."
   ]
  },
  {
   "cell_type": "code",
   "execution_count": 509,
   "metadata": {},
   "outputs": [
    {
     "data": {
      "text/plain": [
       "<seaborn.axisgrid.FacetGrid at 0x1a2edd5128>"
      ]
     },
     "execution_count": 509,
     "metadata": {},
     "output_type": "execute_result"
    },
    {
     "data": {
      "image/png": "[encoded data removed]",
      "text/plain": [
       "<Figure size 360x360 with 1 Axes>"
      ]
     },
     "metadata": {
      "needs_background": "light"
     },
     "output_type": "display_data"
    }
   ],
   "source": [
    "sns.relplot(x=\"t_date\", y=\"t_amount\",data=data)"
   ]
  },
  {
   "cell_type": "code",
   "execution_count": 510,
   "metadata": {},
   "outputs": [
    {
     "data": {
      "text/plain": [
       "<seaborn.axisgrid.FacetGrid at 0x1a2f0844a8>"
      ]
     },
     "execution_count": 510,
     "metadata": {},
     "output_type": "execute_result"
    },
    {
     "data": {
      "image/png": "[encoded data removed]",
      "text/plain": [
       "<Figure size 360x360 with 1 Axes>"
      ]
     },
     "metadata": {
      "needs_background": "light"
     },
     "output_type": "display_data"
    }
   ],
   "source": [
    "sns.relplot(x=\"tran_details\", y=\"t_amount\",data=data)"
   ]
  },
  {
   "cell_type": "code",
   "execution_count": 511,
   "metadata": {},
   "outputs": [
    {
     "data": {
      "text/plain": [
       "<seaborn.axisgrid.FacetGrid at 0x1a2f187b00>"
      ]
     },
     "execution_count": 511,
     "metadata": {},
     "output_type": "execute_result"
    },
    {
     "data": {
      "image/png": "[encoded data removed]",
      "text/plain": [
       "<Figure size 360x360 with 1 Axes>"
      ]
     },
     "metadata": {
      "needs_background": "light"
     },
     "output_type": "display_data"
    }
   ],
   "source": [
    "sns.relplot(x=\"is_place_duplicated\", y=\"t_amount\",data=data)"
   ]
  },
  {
   "cell_type": "code",
   "execution_count": 515,
   "metadata": {},
   "outputs": [
    {
     "data": {
      "text/plain": [
       "<seaborn.axisgrid.PairGrid at 0x1a2c9878d0>"
      ]
     },
     "execution_count": 515,
     "metadata": {},
     "output_type": "execute_result"
    },
    {
     "data": {
      "image/png": "[encoded data removed]",
      "text/plain": [
       "<Figure size 787x720 with 20 Axes>"
      ]
     },
     "metadata": {
      "needs_background": "light"
     },
     "output_type": "display_data"
    }
   ],
   "source": [
    "sns.pairplot(data,hue=\"tran_details\")"
   ]
  },
  {
   "cell_type": "markdown",
   "metadata": {},
   "source": [
    "## <u>Prediction</u>"
   ]
  },
  {
   "cell_type": "code",
   "execution_count": 517,
   "metadata": {},
   "outputs": [],
   "source": [
    "features = data.drop(\"t_amount\", axis=1).values\n",
    "labels = data.t_amount.values"
   ]
  },
  {
   "cell_type": "code",
   "execution_count": 522,
   "metadata": {},
   "outputs": [],
   "source": [
    "# splitting data\n",
    "features_train, features_test, labels_train, labels_test = train_test_split(features, labels, shuffle=True, random_state=42)"
   ]
  },
  {
   "cell_type": "code",
   "execution_count": 596,
   "metadata": {},
   "outputs": [],
   "source": [
    "classifiers = {\n",
    "    \"linear regression\": LinearRegression(),\n",
    "    \"svr\": SVR(),\n",
    "    \"random forest\":RandomForestRegressor(n_estimators=5),\n",
    "    \"Decision tree\":DecisionTreeRegressor(),\n",
    "    \"BaggingRegressor\":BaggingRegressor(),\n",
    "    \"Gradient Boosting\":GradientBoostingRegressor(),\n",
    "}\n",
    "\n",
    "def train():\n",
    "    for i, classifier in enumerate(classifiers):\n",
    "        print (\"Training with: \", i)\n",
    "        classifiers.get(classifier).fit(features_train, labels_train)\n",
    "        print(\"Training score: \", classifiers.get(classifier).score(features_train ,labels_train))\n",
    "        print(\"Testing score: \", classifiers.get(classifier).score(features_test ,labels_test))\n",
    "        print()"
   ]
  },
  {
   "cell_type": "code",
   "execution_count": 597,
   "metadata": {},
   "outputs": [
    {
     "name": "stdout",
     "output_type": "stream",
     "text": [
      "Training with:  0\n",
      "Training score:  0.2376959870500167\n",
      "Testing score:  0.3981717628376832\n",
      "\n",
      "Training with:  1\n",
      "Training score:  -0.17361505860299298\n",
      "Testing score:  -0.08759456430941825\n",
      "\n",
      "Training with:  2\n",
      "Training score:  0.38549543760370497\n",
      "Testing score:  0.3294553182125629\n",
      "\n",
      "Training with:  3\n",
      "Training score:  0.4372731898394506\n",
      "Testing score:  0.14911766044258212\n",
      "\n",
      "Training with:  4\n",
      "Training score:  0.38832419979790167\n",
      "Testing score:  0.34273972101193007\n",
      "\n",
      "Training with:  5\n",
      "Training score:  0.4370434312071776\n",
      "Testing score:  0.18207413623141863\n",
      "\n"
     ]
    },
    {
     "name": "stderr",
     "output_type": "stream",
     "text": [
      "/Users/aaditkapoor/anaconda3/lib/python3.7/site-packages/sklearn/svm/base.py:196: FutureWarning: The default value of gamma will change from 'auto' to 'scale' in version 0.22 to account better for unscaled features. Set gamma explicitly to 'auto' or 'scale' to avoid this warning.\n",
      "  \"avoid this warning.\", FutureWarning)\n"
     ]
    }
   ],
   "source": [
    "train()"
   ]
  },
  {
   "cell_type": "markdown",
   "metadata": {},
   "source": [
    "- We get awful results with the these regressors as our data is limited."
   ]
  },
  {
   "cell_type": "markdown",
   "metadata": {},
   "source": [
    "## <u>Prediction Examples</u>"
   ]
  },
  {
   "cell_type": "markdown",
   "metadata": {},
   "source": [
    "### What is the estimated spending on a Saturday at a unique and an expensive place?"
   ]
  },
  {
   "cell_type": "code",
   "execution_count": 614,
   "metadata": {},
   "outputs": [
    {
     "name": "stdout",
     "output_type": "stream",
     "text": [
      "Estimated cost on a Saturday is: $ 48.359\n"
     ]
    }
   ],
   "source": [
    "demo = np.array([6, 1, 0])\n",
    "print (\"Estimated cost on a Saturday is: $\",classifiers[\"random forest\"].predict(demo.reshape(1,-1))[0])"
   ]
  },
  {
   "cell_type": "markdown",
   "metadata": {},
   "source": [
    "- 6 stands for Saturday\n",
    "- 1 stands for expensive place\n",
    "- 0 stands for unique place"
   ]
  },
  {
   "cell_type": "markdown",
   "metadata": {},
   "source": [
    "## Conclusion\n",
    "- We are able to successfully gather sufficient about my expenses.\n",
    "- We see that my frequency of going to an expensive place (>10) was more than less expensive places.\n",
    "- As you can see, the expensive area mean costs around 49 and the average spending at expensive area was about 50.\n",
    "- As you can see, the expensive area costs around 1241 and I spent a lot on these areas.\n",
    "- Our model's metric were not upto to the mark as there was limitation on the data.\n",
    "- As we keep getting data, we will update our model."
   ]
  },
  {
   "cell_type": "code",
   "execution_count": null,
   "metadata": {},
   "outputs": [],
   "source": []
  }
 ],
 "metadata": {
  "kernelspec": {
   "display_name": "Python 3",
   "language": "python",
   "name": "python3"
  },
  "language_info": {
   "codemirror_mode": {
    "name": "ipython",
    "version": 3
   },
   "file_extension": ".py",
   "mimetype": "text/x-python",
   "name": "python",
   "nbconvert_exporter": "python",
   "pygments_lexer": "ipython3",
   "version": "3.7.3"
  }
 },
 "nbformat": 4,
 "nbformat_minor": 2
}
